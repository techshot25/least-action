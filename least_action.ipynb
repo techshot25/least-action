{
 "cells": [
  {
   "cell_type": "markdown",
   "metadata": {},
   "source": [
    "# Euler Lagrange equations\n",
    "\n",
    "For this simple problem, we have an object falling from a distance. We can find the equation of motion for this using the Euler Lagrange equations.\n",
    "\n",
    "Install the symbolic math python library (sympy)."
   ]
  },
  {
   "cell_type": "code",
   "execution_count": 18,
   "metadata": {},
   "outputs": [
    {
     "name": "stdout",
     "output_type": "stream",
     "text": [
      "\n"
     ]
    }
   ],
   "source": [
    "from sympy import init_session\n",
    "init_session(quiet=True)"
   ]
  },
  {
   "cell_type": "code",
   "execution_count": 19,
   "metadata": {},
   "outputs": [
    {
     "data": {
      "image/png": "[encoded data removed]",
      "text/latex": [
       "$\\displaystyle \\left[ - g m - 1.0 m \\frac{d^{2}}{d t^{2}} y{\\left(t \\right)} = 0\\right]$"
      ],
      "text/plain": [
       "⎡              2           ⎤\n",
       "⎢             d            ⎥\n",
       "⎢-g⋅m - 1.0⋅m⋅───(y(t)) = 0⎥\n",
       "⎢               2          ⎥\n",
       "⎣             dt           ⎦"
      ]
     },
     "execution_count": 19,
     "metadata": {},
     "output_type": "execute_result"
    }
   ],
   "source": [
    "from sympy import euler_equations, symbols, Function, dsolve\n",
    "\n",
    "y = Function('y')\n",
    "m, g, t = symbols(\"m g t\")\n",
    "V = m * g * y(t)\n",
    "T = 1 / 2 * m * (y(t).diff(t)) ** 2\n",
    "L = T - V\n",
    "\n",
    "diffeq = euler_equations(L, y(t), t)\n",
    "diffeq"
   ]
  },
  {
   "cell_type": "code",
   "execution_count": 20,
   "metadata": {},
   "outputs": [
    {
     "data": {
      "image/png": "[encoded data removed]",
      "text/latex": [
       "$\\displaystyle y{\\left(t \\right)} = C_{1} + C_{2} t - \\frac{g t^{2}}{2}$"
      ],
      "text/plain": [
       "                      2\n",
       "                   g⋅t \n",
       "y(t) = C₁ + C₂⋅t - ────\n",
       "                    2  "
      ]
     },
     "execution_count": 20,
     "metadata": {},
     "output_type": "execute_result"
    }
   ],
   "source": [
    "dsolve(diffeq[0], y(t))"
   ]
  },
  {
   "cell_type": "markdown",
   "metadata": {},
   "source": [
    "Where $C_1$ and $C_2$ are correspond with the initial position and velocity of the object."
   ]
  }
 ],
 "metadata": {
  "kernelspec": {
   "display_name": "server",
   "language": "python",
   "name": "python3"
  },
  "language_info": {
   "codemirror_mode": {
    "name": "ipython",
    "version": 3
   },
   "file_extension": ".py",
   "mimetype": "text/x-python",
   "name": "python",
   "nbconvert_exporter": "python",
   "pygments_lexer": "ipython3",
   "version": "3.12.2"
  }
 },
 "nbformat": 4,
 "nbformat_minor": 2
}
